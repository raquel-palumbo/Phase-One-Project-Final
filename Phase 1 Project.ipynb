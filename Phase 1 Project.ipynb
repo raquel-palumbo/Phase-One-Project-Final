{
 "cells": [
  {
   "cell_type": "markdown",
   "metadata": {},
   "source": [
    "# Project Overview\n",
    "By: Raquel Palumbo\n",
    "\n",
    "Date: February 7th, 2024\n",
    "\n",
    "Course: Data Science Cohort 121123 - Phase 1\n",
    "\n",
    "### The Purpose\n",
    "This project aims to make three business reccommendations for a company looking to expand into the aviation industry. This company is looking to acquire airplanes for both commerical and private usage. \n",
    "\n",
    "### The Data Set\n",
    "The dataset used came from the National Transportation Safety Board. It contains information on aviation accidents from 1962 - 2023 in the US and international waters.\n",
    "\n",
    "### The Approach\n",
    "We will look at the passenger outcomes to make business reccomendations for the company.The variable we will use will be the number of uninjured passengers. We will look at this as the number of uninjured passengers, and also as the uninjured passengers as a percentage of the total number of passengers.\n",
    "\n",
    "### The Questions\n",
    "1. Which aircrafts should the company purchase?\n",
    "2. Which regions should the company fly in?\n",
    "3. Which purposes of flight should the company get involved in? "
   ]
  },
  {
   "cell_type": "markdown",
   "metadata": {},
   "source": [
    "# Import Libraries\n",
    "\n",
    "Pandas and matplotlib were utilized in this project."
   ]
  },
  {
   "cell_type": "code",
   "execution_count": 1,
   "metadata": {},
   "outputs": [],
   "source": [
    "#import needed libraries\n",
    "import pandas as pd\n",
    "import matplotlib\n",
    "import matplotlib.pyplot as plt\n",
    "%matplotlib inline "
   ]
  },
  {
   "cell_type": "markdown",
   "metadata": {},
   "source": [
    "# Import and Clean the Data\n"
   ]
  },
  {
   "cell_type": "code",
   "execution_count": 2,
   "metadata": {},
   "outputs": [],
   "source": [
    "#import the data\n",
    "aviation_data = pd.read_csv('data/AviationData.csv', encoding = 'latin-1', low_memory=False)"
   ]
  },
  {
   "cell_type": "code",
   "execution_count": 3,
   "metadata": {},
   "outputs": [
    {
     "data": {
      "text/html": [
       "<div>\n",
       "<style scoped>\n",
       "    .dataframe tbody tr th:only-of-type {\n",
       "        vertical-align: middle;\n",
       "    }\n",
       "\n",
       "    .dataframe tbody tr th {\n",
       "        vertical-align: top;\n",
       "    }\n",
       "\n",
       "    .dataframe thead th {\n",
       "        text-align: right;\n",
       "    }\n",
       "</style>\n",
       "<table border=\"1\" class=\"dataframe\">\n",
       "  <thead>\n",
       "    <tr style=\"text-align: right;\">\n",
       "      <th></th>\n",
       "      <th>Event.Id</th>\n",
       "      <th>Investigation.Type</th>\n",
       "      <th>Accident.Number</th>\n",
       "      <th>Event.Date</th>\n",
       "      <th>Location</th>\n",
       "      <th>Country</th>\n",
       "      <th>Latitude</th>\n",
       "      <th>Longitude</th>\n",
       "      <th>Airport.Code</th>\n",
       "      <th>Airport.Name</th>\n",
       "      <th>...</th>\n",
       "      <th>Purpose.of.flight</th>\n",
       "      <th>Air.carrier</th>\n",
       "      <th>Total.Fatal.Injuries</th>\n",
       "      <th>Total.Serious.Injuries</th>\n",
       "      <th>Total.Minor.Injuries</th>\n",
       "      <th>Total.Uninjured</th>\n",
       "      <th>Weather.Condition</th>\n",
       "      <th>Broad.phase.of.flight</th>\n",
       "      <th>Report.Status</th>\n",
       "      <th>Publication.Date</th>\n",
       "    </tr>\n",
       "  </thead>\n",
       "  <tbody>\n",
       "    <tr>\n",
       "      <th>0</th>\n",
       "      <td>20001218X45444</td>\n",
       "      <td>Accident</td>\n",
       "      <td>SEA87LA080</td>\n",
       "      <td>10/24/48</td>\n",
       "      <td>MOOSE CREEK, ID</td>\n",
       "      <td>United States</td>\n",
       "      <td>NaN</td>\n",
       "      <td>NaN</td>\n",
       "      <td>NaN</td>\n",
       "      <td>NaN</td>\n",
       "      <td>...</td>\n",
       "      <td>Personal</td>\n",
       "      <td>NaN</td>\n",
       "      <td>2.0</td>\n",
       "      <td>0.0</td>\n",
       "      <td>0.0</td>\n",
       "      <td>0.0</td>\n",
       "      <td>UNK</td>\n",
       "      <td>Cruise</td>\n",
       "      <td>Probable Cause</td>\n",
       "      <td>NaN</td>\n",
       "    </tr>\n",
       "    <tr>\n",
       "      <th>1</th>\n",
       "      <td>20001218X45447</td>\n",
       "      <td>Accident</td>\n",
       "      <td>LAX94LA336</td>\n",
       "      <td>7/19/62</td>\n",
       "      <td>BRIDGEPORT, CA</td>\n",
       "      <td>United States</td>\n",
       "      <td>NaN</td>\n",
       "      <td>NaN</td>\n",
       "      <td>NaN</td>\n",
       "      <td>NaN</td>\n",
       "      <td>...</td>\n",
       "      <td>Personal</td>\n",
       "      <td>NaN</td>\n",
       "      <td>4.0</td>\n",
       "      <td>0.0</td>\n",
       "      <td>0.0</td>\n",
       "      <td>0.0</td>\n",
       "      <td>UNK</td>\n",
       "      <td>Unknown</td>\n",
       "      <td>Probable Cause</td>\n",
       "      <td>19-09-1996</td>\n",
       "    </tr>\n",
       "    <tr>\n",
       "      <th>2</th>\n",
       "      <td>20061025X01555</td>\n",
       "      <td>Accident</td>\n",
       "      <td>NYC07LA005</td>\n",
       "      <td>8/30/74</td>\n",
       "      <td>Saltville, VA</td>\n",
       "      <td>United States</td>\n",
       "      <td>36.922223</td>\n",
       "      <td>-81.878056</td>\n",
       "      <td>NaN</td>\n",
       "      <td>NaN</td>\n",
       "      <td>...</td>\n",
       "      <td>Personal</td>\n",
       "      <td>NaN</td>\n",
       "      <td>3.0</td>\n",
       "      <td>NaN</td>\n",
       "      <td>NaN</td>\n",
       "      <td>NaN</td>\n",
       "      <td>IMC</td>\n",
       "      <td>Cruise</td>\n",
       "      <td>Probable Cause</td>\n",
       "      <td>26-02-2007</td>\n",
       "    </tr>\n",
       "    <tr>\n",
       "      <th>3</th>\n",
       "      <td>20001218X45448</td>\n",
       "      <td>Accident</td>\n",
       "      <td>LAX96LA321</td>\n",
       "      <td>6/19/77</td>\n",
       "      <td>EUREKA, CA</td>\n",
       "      <td>United States</td>\n",
       "      <td>NaN</td>\n",
       "      <td>NaN</td>\n",
       "      <td>NaN</td>\n",
       "      <td>NaN</td>\n",
       "      <td>...</td>\n",
       "      <td>Personal</td>\n",
       "      <td>NaN</td>\n",
       "      <td>2.0</td>\n",
       "      <td>0.0</td>\n",
       "      <td>0.0</td>\n",
       "      <td>0.0</td>\n",
       "      <td>IMC</td>\n",
       "      <td>Cruise</td>\n",
       "      <td>Probable Cause</td>\n",
       "      <td>12/9/00</td>\n",
       "    </tr>\n",
       "    <tr>\n",
       "      <th>4</th>\n",
       "      <td>20041105X01764</td>\n",
       "      <td>Accident</td>\n",
       "      <td>CHI79FA064</td>\n",
       "      <td>8/2/79</td>\n",
       "      <td>Canton, OH</td>\n",
       "      <td>United States</td>\n",
       "      <td>NaN</td>\n",
       "      <td>NaN</td>\n",
       "      <td>NaN</td>\n",
       "      <td>NaN</td>\n",
       "      <td>...</td>\n",
       "      <td>Personal</td>\n",
       "      <td>NaN</td>\n",
       "      <td>1.0</td>\n",
       "      <td>2.0</td>\n",
       "      <td>NaN</td>\n",
       "      <td>0.0</td>\n",
       "      <td>VMC</td>\n",
       "      <td>Approach</td>\n",
       "      <td>Probable Cause</td>\n",
       "      <td>16-04-1980</td>\n",
       "    </tr>\n",
       "  </tbody>\n",
       "</table>\n",
       "<p>5 rows × 31 columns</p>\n",
       "</div>"
      ],
      "text/plain": [
       "         Event.Id Investigation.Type Accident.Number Event.Date  \\\n",
       "0  20001218X45444           Accident      SEA87LA080   10/24/48   \n",
       "1  20001218X45447           Accident      LAX94LA336    7/19/62   \n",
       "2  20061025X01555           Accident      NYC07LA005    8/30/74   \n",
       "3  20001218X45448           Accident      LAX96LA321    6/19/77   \n",
       "4  20041105X01764           Accident      CHI79FA064     8/2/79   \n",
       "\n",
       "          Location        Country   Latitude   Longitude Airport.Code  \\\n",
       "0  MOOSE CREEK, ID  United States        NaN         NaN          NaN   \n",
       "1   BRIDGEPORT, CA  United States        NaN         NaN          NaN   \n",
       "2    Saltville, VA  United States  36.922223  -81.878056          NaN   \n",
       "3       EUREKA, CA  United States        NaN         NaN          NaN   \n",
       "4       Canton, OH  United States        NaN         NaN          NaN   \n",
       "\n",
       "  Airport.Name  ... Purpose.of.flight Air.carrier Total.Fatal.Injuries  \\\n",
       "0          NaN  ...          Personal         NaN                  2.0   \n",
       "1          NaN  ...          Personal         NaN                  4.0   \n",
       "2          NaN  ...          Personal         NaN                  3.0   \n",
       "3          NaN  ...          Personal         NaN                  2.0   \n",
       "4          NaN  ...          Personal         NaN                  1.0   \n",
       "\n",
       "  Total.Serious.Injuries Total.Minor.Injuries Total.Uninjured  \\\n",
       "0                    0.0                  0.0             0.0   \n",
       "1                    0.0                  0.0             0.0   \n",
       "2                    NaN                  NaN             NaN   \n",
       "3                    0.0                  0.0             0.0   \n",
       "4                    2.0                  NaN             0.0   \n",
       "\n",
       "  Weather.Condition  Broad.phase.of.flight   Report.Status Publication.Date  \n",
       "0               UNK                 Cruise  Probable Cause              NaN  \n",
       "1               UNK                Unknown  Probable Cause       19-09-1996  \n",
       "2               IMC                 Cruise  Probable Cause       26-02-2007  \n",
       "3               IMC                 Cruise  Probable Cause          12/9/00  \n",
       "4               VMC               Approach  Probable Cause       16-04-1980  \n",
       "\n",
       "[5 rows x 31 columns]"
      ]
     },
     "execution_count": 3,
     "metadata": {},
     "output_type": "execute_result"
    }
   ],
   "source": [
    "#view the dataset\n",
    "aviation_data.head()"
   ]
  },
  {
   "cell_type": "code",
   "execution_count": 4,
   "metadata": {},
   "outputs": [
    {
     "name": "stdout",
     "output_type": "stream",
     "text": [
      "<class 'pandas.core.frame.DataFrame'>\n",
      "RangeIndex: 88889 entries, 0 to 88888\n",
      "Data columns (total 31 columns):\n",
      " #   Column                  Non-Null Count  Dtype  \n",
      "---  ------                  --------------  -----  \n",
      " 0   Event.Id                88889 non-null  object \n",
      " 1   Investigation.Type      88889 non-null  object \n",
      " 2   Accident.Number         88889 non-null  object \n",
      " 3   Event.Date              88889 non-null  object \n",
      " 4   Location                88837 non-null  object \n",
      " 5   Country                 88663 non-null  object \n",
      " 6   Latitude                34382 non-null  object \n",
      " 7   Longitude               34373 non-null  object \n",
      " 8   Airport.Code            50249 non-null  object \n",
      " 9   Airport.Name            52790 non-null  object \n",
      " 10  Injury.Severity         87889 non-null  object \n",
      " 11  Aircraft.damage         85695 non-null  object \n",
      " 12  Aircraft.Category       32287 non-null  object \n",
      " 13  Registration.Number     87572 non-null  object \n",
      " 14  Make                    88826 non-null  object \n",
      " 15  Model                   88797 non-null  object \n",
      " 16  Amateur.Built           88787 non-null  object \n",
      " 17  Number.of.Engines       82805 non-null  float64\n",
      " 18  Engine.Type             81812 non-null  object \n",
      " 19  FAR.Description         32023 non-null  object \n",
      " 20  Schedule                12582 non-null  object \n",
      " 21  Purpose.of.flight       82697 non-null  object \n",
      " 22  Air.carrier             16648 non-null  object \n",
      " 23  Total.Fatal.Injuries    77488 non-null  float64\n",
      " 24  Total.Serious.Injuries  76379 non-null  float64\n",
      " 25  Total.Minor.Injuries    76956 non-null  float64\n",
      " 26  Total.Uninjured         82977 non-null  float64\n",
      " 27  Weather.Condition       84397 non-null  object \n",
      " 28  Broad.phase.of.flight   61724 non-null  object \n",
      " 29  Report.Status           82508 non-null  object \n",
      " 30  Publication.Date        75118 non-null  object \n",
      "dtypes: float64(5), object(26)\n",
      "memory usage: 21.0+ MB\n"
     ]
    }
   ],
   "source": [
    "#get information on the dataset\n",
    "aviation_data.info()"
   ]
  },
  {
   "cell_type": "markdown",
   "metadata": {},
   "source": [
    "The dataset contains data on 88,889 accidents."
   ]
  },
  {
   "cell_type": "markdown",
   "metadata": {},
   "source": [
    "# Clean the Data\n",
    "### 1. Remove any unneccesary columns \n",
    "The following columns were removed as their data was not needed for this analysis:\n",
    "\n",
    "    - Airport Code \n",
    "    - Air Carrier\n",
    "    - Investigation Type\n",
    "    - Latitude\n",
    "    - Longitude\n",
    "    - Accident Number\n",
    "    - Publication Date\n",
    "    - Event ID\n",
    "    - Registration Number\n",
    "    - FAR Description\n",
    "    - Report Status\n",
    "    - Amateur Built\n",
    "    - Number of Engines\n",
    "\n",
    "### 2. Elimate all rows where the aircraft category is not \"Airplane\"\n",
    "At this time, the company only wants to work with airplanes.\n",
    "\n",
    "### 3. Clean up the data on injuries\n",
    "There are four columns that contain data on passenger injuries:\n",
    "\n",
    "    - Total Fatal Injuries\n",
    "    - Total Serious Injuries\n",
    "    - Total Minor Injuries\n",
    "    - Total Uninjured\n",
    "    \n",
    "We replaced all NaNs in these columns with zero. We assumed that is is likely that NaN represented an instance in which no passengers had that outcome. \n",
    "\n",
    "We also converted all values in these columns to integers to use in mathematical operations later in the analysis\n",
    "\n",
    "### 4. Add columns\n",
    "Columns for Total Injured Passengers and Number of Passengers were added. \n",
    "\n",
    "Any row that had no passengers (indicated by a zero in Number of Passengers) was dropped.\n",
    "\n",
    "### 5. Clean the make column\n",
    "We replaced names of makes that were duplicates. We also replaced Mcdonnell Douglass with Boeing, since that company is no longer in operation and was acquired by Boeing."
   ]
  },
  {
   "cell_type": "code",
   "execution_count": 5,
   "metadata": {},
   "outputs": [],
   "source": [
    "#remove columns that contain data we will not need\n",
    "aviation_data = aviation_data.drop(['Airport.Code','Air.carrier','Investigation.Type','Latitude', 'Longitude','Accident.Number', 'Event.Id','Registration.Number', 'FAR.Description', 'Report.Status', 'Amateur.Built', 'Number.of.Engines'], axis =1)"
   ]
  },
  {
   "cell_type": "code",
   "execution_count": 6,
   "metadata": {},
   "outputs": [],
   "source": [
    "#elimate data on aircraft other than airplanes\n",
    "aviation_data.drop(aviation_data.loc[aviation_data['Aircraft.Category']!='Airplane'].index, inplace=True)\n",
    "aviation_data = aviation_data.drop('Aircraft.Category', axis =1)"
   ]
  },
  {
   "cell_type": "code",
   "execution_count": 7,
   "metadata": {},
   "outputs": [],
   "source": [
    "#clean up the data on injuries\n",
    "\n",
    "#handle all missing data from the injuries columns\n",
    "aviation_data.loc[:, ['Total.Fatal.Injuries', 'Total.Serious.Injuries', 'Total.Minor.Injuries', 'Total.Uninjured']] = aviation_data[['Total.Fatal.Injuries', 'Total.Serious.Injuries', 'Total.Minor.Injuries', 'Total.Uninjured']].fillna(0)\n",
    "aviation_data.drop(aviation_data.loc[aviation_data['Total.Fatal.Injuries']=='Boeing'].index, inplace=True)\n",
    "aviation_data.drop(aviation_data.loc[aviation_data['Total.Fatal.Injuries']=='nan'].index, inplace=True)\n",
    "\n",
    "#convert all injury counts to integers to use in mathematical operations\n",
    "aviation_data[['Total.Fatal.Injuries', 'Total.Serious.Injuries', 'Total.Minor.Injuries', 'Total.Uninjured']] = aviation_data[['Total.Fatal.Injuries', 'Total.Serious.Injuries', 'Total.Minor.Injuries', 'Total.Uninjured']].astype(int)\n",
    "\n",
    "#add a column for the total number of injured passsengers\n",
    "aviation_data['Total.Injuries']=(aviation_data['Total.Fatal.Injuries']+aviation_data['Total.Minor.Injuries']+aviation_data['Total.Serious.Injuries']).astype(int)\n",
    "\n",
    "#add a column for the total number of passengers\n",
    "aviation_data['Num.Passengers']= aviation_data['Total.Injuries']+aviation_data['Total.Uninjured']\n",
    "\n",
    "#drop any colums with no passengers\n",
    "aviation_data.drop(aviation_data.loc[aviation_data['Num.Passengers']==0].index, inplace=True)"
   ]
  },
  {
   "cell_type": "code",
   "execution_count": 8,
   "metadata": {},
   "outputs": [],
   "source": [
    "#clean up the make column"
   ]
  },
  {
   "cell_type": "code",
   "execution_count": 9,
   "metadata": {},
   "outputs": [],
   "source": [
    "#drop rows with no data on make\n",
    "aviation_data.dropna(subset = ['Make'], inplace = True)\n",
    "\n",
    "#clean up the formatting of values\n",
    "aviation_data['Make']=aviation_data['Make'].map(lambda x: x.title())\n",
    "\n",
    "#reassign Mcdonnell Douglas to Boeing\n",
    "aviation_data['Make'].replace('Mcdonnell Douglas', 'Boeing', inplace=True)\n",
    "aviation_data['Make'].replace('Airbus Industrie', 'Airbus', inplace=True)"
   ]
  },
  {
   "cell_type": "code",
   "execution_count": 10,
   "metadata": {},
   "outputs": [
    {
     "name": "stdout",
     "output_type": "stream",
     "text": [
      "<class 'pandas.core.frame.DataFrame'>\n",
      "Int64Index: 26689 entries, 5 to 88886\n",
      "Data columns (total 20 columns):\n",
      " #   Column                  Non-Null Count  Dtype \n",
      "---  ------                  --------------  ----- \n",
      " 0   Event.Date              26689 non-null  object\n",
      " 1   Location                26684 non-null  object\n",
      " 2   Country                 26682 non-null  object\n",
      " 3   Airport.Name            18019 non-null  object\n",
      " 4   Injury.Severity         26689 non-null  object\n",
      " 5   Aircraft.damage         25852 non-null  object\n",
      " 6   Make                    26689 non-null  object\n",
      " 7   Model                   26664 non-null  object\n",
      " 8   Engine.Type             23133 non-null  object\n",
      " 9   Schedule                2574 non-null   object\n",
      " 10  Purpose.of.flight       23778 non-null  object\n",
      " 11  Total.Fatal.Injuries    26689 non-null  int64 \n",
      " 12  Total.Serious.Injuries  26689 non-null  int64 \n",
      " 13  Total.Minor.Injuries    26689 non-null  int64 \n",
      " 14  Total.Uninjured         26689 non-null  int64 \n",
      " 15  Weather.Condition       24424 non-null  object\n",
      " 16  Broad.phase.of.flight   6400 non-null   object\n",
      " 17  Publication.Date        25934 non-null  object\n",
      " 18  Total.Injuries          26689 non-null  int64 \n",
      " 19  Num.Passengers          26689 non-null  int64 \n",
      "dtypes: int64(6), object(14)\n",
      "memory usage: 4.3+ MB\n"
     ]
    }
   ],
   "source": [
    "aviation_data.info()"
   ]
  },
  {
   "cell_type": "markdown",
   "metadata": {},
   "source": [
    "After cleaning the data, we are left with 26,689 entries to work with. "
   ]
  },
  {
   "cell_type": "markdown",
   "metadata": {},
   "source": [
    "# Finding the safest makes and models\n",
    "The first reccomendation we will look to make is what aircrafts the company should purchase. \n",
    "\n",
    "We will look at the percentage of fatal injuries out of the total number of passengers for each make, and then for each model. \n",
    "\n",
    "First, we will find the five planes that have the most entries in the dataset. These are likely the planes that are flown the most commonly flown.\n",
    "\n",
    "We first found the makes with the highest number of uninjured passengers.\n",
    "\n",
    "\n",
    "\n",
    "Next, we added a column for Percentage of Uninjured Passengers. We then found which makes of had the highest percentage of uninjured passengers.\n",
    "\n",
    "These same steps were then repeated for the models."
   ]
  },
  {
   "cell_type": "markdown",
   "metadata": {},
   "source": [
    "### Best Makes"
   ]
  },
  {
   "cell_type": "code",
   "execution_count": 11,
   "metadata": {},
   "outputs": [],
   "source": [
    "#find the total of each passenger outcome for each make then get the 5 planes with the most passengers/data points\n",
    "safest_makes = aviation_data[['Make', 'Model', 'Total.Fatal.Injuries', 'Total.Serious.Injuries', 'Total.Minor.Injuries', 'Total.Uninjured', 'Num.Passengers']].groupby(['Make']).sum().nlargest(5, columns='Num.Passengers')"
   ]
  },
  {
   "cell_type": "code",
   "execution_count": 12,
   "metadata": {},
   "outputs": [
    {
     "data": {
      "text/html": [
       "<div>\n",
       "<style scoped>\n",
       "    .dataframe tbody tr th:only-of-type {\n",
       "        vertical-align: middle;\n",
       "    }\n",
       "\n",
       "    .dataframe tbody tr th {\n",
       "        vertical-align: top;\n",
       "    }\n",
       "\n",
       "    .dataframe thead th {\n",
       "        text-align: right;\n",
       "    }\n",
       "</style>\n",
       "<table border=\"1\" class=\"dataframe\">\n",
       "  <thead>\n",
       "    <tr style=\"text-align: right;\">\n",
       "      <th></th>\n",
       "      <th>Total.Fatal.Injuries</th>\n",
       "      <th>Total.Serious.Injuries</th>\n",
       "      <th>Total.Minor.Injuries</th>\n",
       "      <th>Total.Uninjured</th>\n",
       "      <th>Num.Passengers</th>\n",
       "    </tr>\n",
       "    <tr>\n",
       "      <th>Make</th>\n",
       "      <th></th>\n",
       "      <th></th>\n",
       "      <th></th>\n",
       "      <th></th>\n",
       "      <th></th>\n",
       "    </tr>\n",
       "  </thead>\n",
       "  <tbody>\n",
       "    <tr>\n",
       "      <th>Boeing</th>\n",
       "      <td>3309</td>\n",
       "      <td>1353</td>\n",
       "      <td>1242</td>\n",
       "      <td>99682</td>\n",
       "      <td>105586</td>\n",
       "    </tr>\n",
       "    <tr>\n",
       "      <th>Airbus</th>\n",
       "      <td>1668</td>\n",
       "      <td>210</td>\n",
       "      <td>107</td>\n",
       "      <td>24551</td>\n",
       "      <td>26536</td>\n",
       "    </tr>\n",
       "    <tr>\n",
       "      <th>Cessna</th>\n",
       "      <td>3059</td>\n",
       "      <td>1824</td>\n",
       "      <td>1500</td>\n",
       "      <td>10735</td>\n",
       "      <td>17118</td>\n",
       "    </tr>\n",
       "    <tr>\n",
       "      <th>Piper</th>\n",
       "      <td>1899</td>\n",
       "      <td>960</td>\n",
       "      <td>827</td>\n",
       "      <td>5522</td>\n",
       "      <td>9208</td>\n",
       "    </tr>\n",
       "    <tr>\n",
       "      <th>Embraer</th>\n",
       "      <td>319</td>\n",
       "      <td>123</td>\n",
       "      <td>59</td>\n",
       "      <td>4801</td>\n",
       "      <td>5302</td>\n",
       "    </tr>\n",
       "  </tbody>\n",
       "</table>\n",
       "</div>"
      ],
      "text/plain": [
       "         Total.Fatal.Injuries  Total.Serious.Injuries  Total.Minor.Injuries  \\\n",
       "Make                                                                          \n",
       "Boeing                   3309                    1353                  1242   \n",
       "Airbus                   1668                     210                   107   \n",
       "Cessna                   3059                    1824                  1500   \n",
       "Piper                    1899                     960                   827   \n",
       "Embraer                   319                     123                    59   \n",
       "\n",
       "         Total.Uninjured  Num.Passengers  \n",
       "Make                                      \n",
       "Boeing             99682          105586  \n",
       "Airbus             24551           26536  \n",
       "Cessna             10735           17118  \n",
       "Piper               5522            9208  \n",
       "Embraer             4801            5302  "
      ]
     },
     "execution_count": 12,
     "metadata": {},
     "output_type": "execute_result"
    }
   ],
   "source": [
    "#find the make with the highest number of uninjured passengers\n",
    "safest_makes.nlargest(5, columns='Total.Uninjured')"
   ]
  },
  {
   "cell_type": "code",
   "execution_count": 13,
   "metadata": {},
   "outputs": [
    {
     "data": {
      "image/png": "[encoded data removed]",
      "text/plain": [
       "<Figure size 432x288 with 1 Axes>"
      ]
     },
     "metadata": {
      "needs_background": "light"
     },
     "output_type": "display_data"
    }
   ],
   "source": [
    "safest_makes.drop(['Num.Passengers'], axis =1).plot(kind='bar', stacked= True ,title = 'Passenger Outcomes on Safest Airplane Makes', ylabel='Number of Passengers', rot = 45)\n",
    "plt.show()"
   ]
  },
  {
   "cell_type": "markdown",
   "metadata": {},
   "source": [
    "***By number of uninjured passengers, Boeing is the best choice***"
   ]
  },
  {
   "cell_type": "code",
   "execution_count": 14,
   "metadata": {},
   "outputs": [],
   "source": [
    "#add a column for the percentage of uninjured passengers\n",
    "safest_makes['Percentage.Uninjured'] = ((safest_makes['Total.Uninjured']/safest_makes['Num.Passengers'])*100)"
   ]
  },
  {
   "cell_type": "code",
   "execution_count": 15,
   "metadata": {},
   "outputs": [],
   "source": [
    "#convert all columns to percentages\n",
    "safest_makes['Total.Fatal.Injuries'] = ((safest_makes['Total.Fatal.Injuries']/safest_makes['Num.Passengers'])*100)\n",
    "safest_makes['Total.Serious.Injuries'] = ((safest_makes['Total.Serious.Injuries']/safest_makes['Num.Passengers'])*100)\n",
    "safest_makes['Total.Minor.Injuries'] = ((safest_makes['Total.Minor.Injuries']/safest_makes['Num.Passengers'])*100)"
   ]
  },
  {
   "cell_type": "code",
   "execution_count": 16,
   "metadata": {},
   "outputs": [
    {
     "data": {
      "text/html": [
       "<div>\n",
       "<style scoped>\n",
       "    .dataframe tbody tr th:only-of-type {\n",
       "        vertical-align: middle;\n",
       "    }\n",
       "\n",
       "    .dataframe tbody tr th {\n",
       "        vertical-align: top;\n",
       "    }\n",
       "\n",
       "    .dataframe thead th {\n",
       "        text-align: right;\n",
       "    }\n",
       "</style>\n",
       "<table border=\"1\" class=\"dataframe\">\n",
       "  <thead>\n",
       "    <tr style=\"text-align: right;\">\n",
       "      <th></th>\n",
       "      <th>Percentage.Fatal.Injuries</th>\n",
       "      <th>Percentage.Serious.Injuries</th>\n",
       "      <th>Percentage.Minor.Injuries</th>\n",
       "      <th>Percentage.Uninjured</th>\n",
       "    </tr>\n",
       "    <tr>\n",
       "      <th>Make</th>\n",
       "      <th></th>\n",
       "      <th></th>\n",
       "      <th></th>\n",
       "      <th></th>\n",
       "    </tr>\n",
       "  </thead>\n",
       "  <tbody>\n",
       "    <tr>\n",
       "      <th>Boeing</th>\n",
       "      <td>3.13</td>\n",
       "      <td>1.28</td>\n",
       "      <td>1.18</td>\n",
       "      <td>94.41</td>\n",
       "    </tr>\n",
       "    <tr>\n",
       "      <th>Airbus</th>\n",
       "      <td>6.29</td>\n",
       "      <td>0.79</td>\n",
       "      <td>0.40</td>\n",
       "      <td>92.52</td>\n",
       "    </tr>\n",
       "    <tr>\n",
       "      <th>Embraer</th>\n",
       "      <td>6.02</td>\n",
       "      <td>2.32</td>\n",
       "      <td>1.11</td>\n",
       "      <td>90.55</td>\n",
       "    </tr>\n",
       "    <tr>\n",
       "      <th>Cessna</th>\n",
       "      <td>17.87</td>\n",
       "      <td>10.66</td>\n",
       "      <td>8.76</td>\n",
       "      <td>62.71</td>\n",
       "    </tr>\n",
       "    <tr>\n",
       "      <th>Piper</th>\n",
       "      <td>20.62</td>\n",
       "      <td>10.43</td>\n",
       "      <td>8.98</td>\n",
       "      <td>59.97</td>\n",
       "    </tr>\n",
       "  </tbody>\n",
       "</table>\n",
       "</div>"
      ],
      "text/plain": [
       "         Percentage.Fatal.Injuries  Percentage.Serious.Injuries  \\\n",
       "Make                                                              \n",
       "Boeing                        3.13                         1.28   \n",
       "Airbus                        6.29                         0.79   \n",
       "Embraer                       6.02                         2.32   \n",
       "Cessna                       17.87                        10.66   \n",
       "Piper                        20.62                        10.43   \n",
       "\n",
       "         Percentage.Minor.Injuries  Percentage.Uninjured  \n",
       "Make                                                      \n",
       "Boeing                        1.18                 94.41  \n",
       "Airbus                        0.40                 92.52  \n",
       "Embraer                       1.11                 90.55  \n",
       "Cessna                        8.76                 62.71  \n",
       "Piper                         8.98                 59.97  "
      ]
     },
     "execution_count": 16,
     "metadata": {},
     "output_type": "execute_result"
    }
   ],
   "source": [
    "#rename the columns\n",
    "safest_makes.rename(columns={'Total.Fatal.Injuries':'Percentage.Fatal.Injuries', 'Total.Serious.Injuries':'Percentage.Serious.Injuries', 'Total.Minor.Injuries':'Percentage.Minor.Injuries'},inplace=True)\n",
    "\n",
    "safest_makes= safest_makes.drop(['Total.Uninjured', 'Num.Passengers'], axis=1).sort_values('Percentage.Uninjured', ascending=False)\n",
    "safest_makes.round(2)"
   ]
  },
  {
   "cell_type": "code",
   "execution_count": 17,
   "metadata": {},
   "outputs": [
    {
     "data": {
      "image/png": "[encoded data removed]",
      "text/plain": [
       "<Figure size 432x288 with 1 Axes>"
      ]
     },
     "metadata": {
      "needs_background": "light"
     },
     "output_type": "display_data"
    }
   ],
   "source": [
    "#plot the passenger outcomes by percentage\n",
    "safest_makes.round().plot(kind='bar', stacked=True, title= 'Passenger Outcomes by Percentage on Safest Airplane Makes', ylabel='Percentage', rot=45)\n",
    "plt.legend(loc='center left', bbox_to_anchor=(1.0, 0.85))\n",
    "plt.show()"
   ]
  },
  {
   "cell_type": "markdown",
   "metadata": {},
   "source": [
    "***Boeing also is the best option by percentage of uninjured passengers***"
   ]
  },
  {
   "cell_type": "markdown",
   "metadata": {},
   "source": [
    "### Best Models"
   ]
  },
  {
   "cell_type": "code",
   "execution_count": 18,
   "metadata": {},
   "outputs": [
    {
     "data": {
      "text/html": [
       "<div>\n",
       "<style scoped>\n",
       "    .dataframe tbody tr th:only-of-type {\n",
       "        vertical-align: middle;\n",
       "    }\n",
       "\n",
       "    .dataframe tbody tr th {\n",
       "        vertical-align: top;\n",
       "    }\n",
       "\n",
       "    .dataframe thead th {\n",
       "        text-align: right;\n",
       "    }\n",
       "</style>\n",
       "<table border=\"1\" class=\"dataframe\">\n",
       "  <thead>\n",
       "    <tr style=\"text-align: right;\">\n",
       "      <th></th>\n",
       "      <th></th>\n",
       "      <th>Total.Fatal.Injuries</th>\n",
       "      <th>Total.Serious.Injuries</th>\n",
       "      <th>Total.Minor.Injuries</th>\n",
       "      <th>Total.Uninjured</th>\n",
       "      <th>Num.Passengers</th>\n",
       "    </tr>\n",
       "    <tr>\n",
       "      <th>Make</th>\n",
       "      <th>Model</th>\n",
       "      <th></th>\n",
       "      <th></th>\n",
       "      <th></th>\n",
       "      <th></th>\n",
       "      <th></th>\n",
       "    </tr>\n",
       "  </thead>\n",
       "  <tbody>\n",
       "    <tr>\n",
       "      <th rowspan=\"3\" valign=\"top\">Boeing</th>\n",
       "      <th>737</th>\n",
       "      <td>1341</td>\n",
       "      <td>339</td>\n",
       "      <td>83</td>\n",
       "      <td>20529</td>\n",
       "      <td>22292</td>\n",
       "    </tr>\n",
       "    <tr>\n",
       "      <th>777</th>\n",
       "      <td>0</td>\n",
       "      <td>6</td>\n",
       "      <td>22</td>\n",
       "      <td>8525</td>\n",
       "      <td>8553</td>\n",
       "    </tr>\n",
       "    <tr>\n",
       "      <th>767</th>\n",
       "      <td>128</td>\n",
       "      <td>110</td>\n",
       "      <td>21</td>\n",
       "      <td>5521</td>\n",
       "      <td>5780</td>\n",
       "    </tr>\n",
       "    <tr>\n",
       "      <th rowspan=\"2\" valign=\"top\">Airbus</th>\n",
       "      <th>A320</th>\n",
       "      <td>283</td>\n",
       "      <td>11</td>\n",
       "      <td>13</td>\n",
       "      <td>3358</td>\n",
       "      <td>3665</td>\n",
       "    </tr>\n",
       "    <tr>\n",
       "      <th>A330</th>\n",
       "      <td>331</td>\n",
       "      <td>19</td>\n",
       "      <td>24</td>\n",
       "      <td>2991</td>\n",
       "      <td>3365</td>\n",
       "    </tr>\n",
       "  </tbody>\n",
       "</table>\n",
       "</div>"
      ],
      "text/plain": [
       "              Total.Fatal.Injuries  Total.Serious.Injuries  \\\n",
       "Make   Model                                                 \n",
       "Boeing 737                    1341                     339   \n",
       "       777                       0                       6   \n",
       "       767                     128                     110   \n",
       "Airbus A320                    283                      11   \n",
       "       A330                    331                      19   \n",
       "\n",
       "              Total.Minor.Injuries  Total.Uninjured  Num.Passengers  \n",
       "Make   Model                                                         \n",
       "Boeing 737                      83            20529           22292  \n",
       "       777                      22             8525            8553  \n",
       "       767                      21             5521            5780  \n",
       "Airbus A320                     13             3358            3665  \n",
       "       A330                     24             2991            3365  "
      ]
     },
     "execution_count": 18,
     "metadata": {},
     "output_type": "execute_result"
    }
   ],
   "source": [
    "#find the total of each passenger outcome for each make then get the 5 planes with the most passengers/data points\n",
    "safest_models = aviation_data[['Make', 'Model', 'Total.Fatal.Injuries', 'Total.Serious.Injuries', 'Total.Minor.Injuries', 'Total.Uninjured', 'Num.Passengers']].groupby(['Make', 'Model']).sum().nlargest(5, columns='Num.Passengers')\n",
    "safest_models"
   ]
  },
  {
   "cell_type": "code",
   "execution_count": 19,
   "metadata": {},
   "outputs": [
    {
     "data": {
      "text/html": [
       "<div>\n",
       "<style scoped>\n",
       "    .dataframe tbody tr th:only-of-type {\n",
       "        vertical-align: middle;\n",
       "    }\n",
       "\n",
       "    .dataframe tbody tr th {\n",
       "        vertical-align: top;\n",
       "    }\n",
       "\n",
       "    .dataframe thead th {\n",
       "        text-align: right;\n",
       "    }\n",
       "</style>\n",
       "<table border=\"1\" class=\"dataframe\">\n",
       "  <thead>\n",
       "    <tr style=\"text-align: right;\">\n",
       "      <th></th>\n",
       "      <th></th>\n",
       "      <th>Total.Fatal.Injuries</th>\n",
       "      <th>Total.Serious.Injuries</th>\n",
       "      <th>Total.Minor.Injuries</th>\n",
       "      <th>Total.Uninjured</th>\n",
       "      <th>Num.Passengers</th>\n",
       "    </tr>\n",
       "    <tr>\n",
       "      <th>Make</th>\n",
       "      <th>Model</th>\n",
       "      <th></th>\n",
       "      <th></th>\n",
       "      <th></th>\n",
       "      <th></th>\n",
       "      <th></th>\n",
       "    </tr>\n",
       "  </thead>\n",
       "  <tbody>\n",
       "    <tr>\n",
       "      <th rowspan=\"3\" valign=\"top\">Boeing</th>\n",
       "      <th>737</th>\n",
       "      <td>1341</td>\n",
       "      <td>339</td>\n",
       "      <td>83</td>\n",
       "      <td>20529</td>\n",
       "      <td>22292</td>\n",
       "    </tr>\n",
       "    <tr>\n",
       "      <th>777</th>\n",
       "      <td>0</td>\n",
       "      <td>6</td>\n",
       "      <td>22</td>\n",
       "      <td>8525</td>\n",
       "      <td>8553</td>\n",
       "    </tr>\n",
       "    <tr>\n",
       "      <th>767</th>\n",
       "      <td>128</td>\n",
       "      <td>110</td>\n",
       "      <td>21</td>\n",
       "      <td>5521</td>\n",
       "      <td>5780</td>\n",
       "    </tr>\n",
       "    <tr>\n",
       "      <th rowspan=\"2\" valign=\"top\">Airbus</th>\n",
       "      <th>A320</th>\n",
       "      <td>283</td>\n",
       "      <td>11</td>\n",
       "      <td>13</td>\n",
       "      <td>3358</td>\n",
       "      <td>3665</td>\n",
       "    </tr>\n",
       "    <tr>\n",
       "      <th>A330</th>\n",
       "      <td>331</td>\n",
       "      <td>19</td>\n",
       "      <td>24</td>\n",
       "      <td>2991</td>\n",
       "      <td>3365</td>\n",
       "    </tr>\n",
       "  </tbody>\n",
       "</table>\n",
       "</div>"
      ],
      "text/plain": [
       "              Total.Fatal.Injuries  Total.Serious.Injuries  \\\n",
       "Make   Model                                                 \n",
       "Boeing 737                    1341                     339   \n",
       "       777                       0                       6   \n",
       "       767                     128                     110   \n",
       "Airbus A320                    283                      11   \n",
       "       A330                    331                      19   \n",
       "\n",
       "              Total.Minor.Injuries  Total.Uninjured  Num.Passengers  \n",
       "Make   Model                                                         \n",
       "Boeing 737                      83            20529           22292  \n",
       "       777                      22             8525            8553  \n",
       "       767                      21             5521            5780  \n",
       "Airbus A320                     13             3358            3665  \n",
       "       A330                     24             2991            3365  "
      ]
     },
     "execution_count": 19,
     "metadata": {},
     "output_type": "execute_result"
    }
   ],
   "source": [
    "#find the model with the highest number of uninjured passengers\n",
    "safest_models.nlargest(5, columns='Total.Uninjured')"
   ]
  },
  {
   "cell_type": "code",
   "execution_count": 20,
   "metadata": {},
   "outputs": [
    {
     "data": {
      "image/png": "[encoded data removed]",
      "text/plain": [
       "<Figure size 432x288 with 1 Axes>"
      ]
     },
     "metadata": {
      "needs_background": "light"
     },
     "output_type": "display_data"
    }
   ],
   "source": [
    "safest_models.drop('Num.Passengers', axis = 1).plot(kind='bar', stacked=True, title= 'Passenger Outcomes on Safest Airplane Models', ylabel='Percentage', rot =45)\n",
    "plt.legend(loc='center left', bbox_to_anchor=(1.0, 0.85))\n",
    "plt.show()"
   ]
  },
  {
   "cell_type": "code",
   "execution_count": 21,
   "metadata": {},
   "outputs": [],
   "source": [
    "#add a column for the percentage of uninjured passengers\n",
    "safest_models['Percentage.Uninjured'] = ((safest_models['Total.Uninjured']/safest_models['Num.Passengers'])*100)"
   ]
  },
  {
   "cell_type": "code",
   "execution_count": 22,
   "metadata": {},
   "outputs": [],
   "source": [
    "#convert all columns to percentages\n",
    "safest_models['Total.Fatal.Injuries'] = ((safest_models['Total.Fatal.Injuries']/safest_models['Num.Passengers'])*100)\n",
    "safest_models['Total.Serious.Injuries'] = ((safest_models['Total.Serious.Injuries']/safest_models['Num.Passengers'])*100)\n",
    "safest_models['Total.Minor.Injuries'] = ((safest_models['Total.Minor.Injuries']/safest_models['Num.Passengers'])*100)"
   ]
  },
  {
   "cell_type": "code",
   "execution_count": 23,
   "metadata": {},
   "outputs": [
    {
     "data": {
      "text/html": [
       "<div>\n",
       "<style scoped>\n",
       "    .dataframe tbody tr th:only-of-type {\n",
       "        vertical-align: middle;\n",
       "    }\n",
       "\n",
       "    .dataframe tbody tr th {\n",
       "        vertical-align: top;\n",
       "    }\n",
       "\n",
       "    .dataframe thead th {\n",
       "        text-align: right;\n",
       "    }\n",
       "</style>\n",
       "<table border=\"1\" class=\"dataframe\">\n",
       "  <thead>\n",
       "    <tr style=\"text-align: right;\">\n",
       "      <th></th>\n",
       "      <th></th>\n",
       "      <th>Percentage.Fatal.Injuries</th>\n",
       "      <th>Percentage.Serious.Injuries</th>\n",
       "      <th>Percentage.Minor.Injuries</th>\n",
       "      <th>Percentage.Uninjured</th>\n",
       "    </tr>\n",
       "    <tr>\n",
       "      <th>Make</th>\n",
       "      <th>Model</th>\n",
       "      <th></th>\n",
       "      <th></th>\n",
       "      <th></th>\n",
       "      <th></th>\n",
       "    </tr>\n",
       "  </thead>\n",
       "  <tbody>\n",
       "    <tr>\n",
       "      <th rowspan=\"3\" valign=\"top\">Boeing</th>\n",
       "      <th>777</th>\n",
       "      <td>0.00</td>\n",
       "      <td>0.07</td>\n",
       "      <td>0.26</td>\n",
       "      <td>99.67</td>\n",
       "    </tr>\n",
       "    <tr>\n",
       "      <th>767</th>\n",
       "      <td>2.21</td>\n",
       "      <td>1.90</td>\n",
       "      <td>0.36</td>\n",
       "      <td>95.52</td>\n",
       "    </tr>\n",
       "    <tr>\n",
       "      <th>737</th>\n",
       "      <td>6.02</td>\n",
       "      <td>1.52</td>\n",
       "      <td>0.37</td>\n",
       "      <td>92.09</td>\n",
       "    </tr>\n",
       "    <tr>\n",
       "      <th rowspan=\"2\" valign=\"top\">Airbus</th>\n",
       "      <th>A320</th>\n",
       "      <td>7.72</td>\n",
       "      <td>0.30</td>\n",
       "      <td>0.35</td>\n",
       "      <td>91.62</td>\n",
       "    </tr>\n",
       "    <tr>\n",
       "      <th>A330</th>\n",
       "      <td>9.84</td>\n",
       "      <td>0.56</td>\n",
       "      <td>0.71</td>\n",
       "      <td>88.89</td>\n",
       "    </tr>\n",
       "  </tbody>\n",
       "</table>\n",
       "</div>"
      ],
      "text/plain": [
       "              Percentage.Fatal.Injuries  Percentage.Serious.Injuries  \\\n",
       "Make   Model                                                           \n",
       "Boeing 777                         0.00                         0.07   \n",
       "       767                         2.21                         1.90   \n",
       "       737                         6.02                         1.52   \n",
       "Airbus A320                        7.72                         0.30   \n",
       "       A330                        9.84                         0.56   \n",
       "\n",
       "              Percentage.Minor.Injuries  Percentage.Uninjured  \n",
       "Make   Model                                                   \n",
       "Boeing 777                         0.26                 99.67  \n",
       "       767                         0.36                 95.52  \n",
       "       737                         0.37                 92.09  \n",
       "Airbus A320                        0.35                 91.62  \n",
       "       A330                        0.71                 88.89  "
      ]
     },
     "execution_count": 23,
     "metadata": {},
     "output_type": "execute_result"
    }
   ],
   "source": [
    "#rename the columns\n",
    "safest_models.rename(columns={'Total.Fatal.Injuries':'Percentage.Fatal.Injuries', 'Total.Serious.Injuries':'Percentage.Serious.Injuries', 'Total.Minor.Injuries':'Percentage.Minor.Injuries'},inplace=True)\n",
    "\n",
    "safest_models= safest_models.drop(['Total.Uninjured', 'Num.Passengers'], axis=1).sort_values('Percentage.Uninjured', ascending=False)\n",
    "safest_models.round(2)"
   ]
  },
  {
   "cell_type": "code",
   "execution_count": 24,
   "metadata": {},
   "outputs": [
    {
     "data": {
      "image/png": "[encoded data removed]",
      "text/plain": [
       "<Figure size 432x288 with 1 Axes>"
      ]
     },
     "metadata": {
      "needs_background": "light"
     },
     "output_type": "display_data"
    }
   ],
   "source": [
    "#plot the passenger outcomes by percentages\n",
    "safest_models.round().plot(kind='bar', stacked=True, title= 'Passenger Outcomes by Percentage on Safest Airplane Models', ylabel='Percentage', rot =45)\n",
    "plt.legend(loc='center left', bbox_to_anchor=(1.0, 0.85))\n",
    "plt.show()"
   ]
  },
  {
   "cell_type": "markdown",
   "metadata": {},
   "source": [
    "***The safest model for the company to purchase would be a Boeing 777.***"
   ]
  },
  {
   "cell_type": "markdown",
   "metadata": {},
   "source": [
    "# Finding the best region to fly in\n",
    "When finding the best region to fly in, we first looked to see which country we had the most data on, which was the US. We decided to focus on this country.\n",
    "\n",
    "We then created a column for the state for each entry.\n",
    "\n",
    "Then, using the regions of the US as defined by National Geographic, a region was assigned to each entry as well in a newly created Region column.\n",
    "\n",
    "The same approach used in finding the safest make and model was then used."
   ]
  },
  {
   "cell_type": "code",
   "execution_count": 25,
   "metadata": {},
   "outputs": [
    {
     "data": {
      "text/plain": [
       "United States               24114\n",
       "Brazil                        225\n",
       "Canada                        160\n",
       "Mexico                        160\n",
       "United Kingdom                141\n",
       "                            ...  \n",
       "Malawi                          1\n",
       "Mauritania                      1\n",
       "Iraq                            1\n",
       "Estonia                         1\n",
       "Turks and Caicos Islands        1\n",
       "Name: Country, Length: 153, dtype: int64"
      ]
     },
     "execution_count": 25,
     "metadata": {},
     "output_type": "execute_result"
    }
   ],
   "source": [
    "#check which country we have the most data on\n",
    "aviation_data['Country'].value_counts()"
   ]
  },
  {
   "cell_type": "code",
   "execution_count": 26,
   "metadata": {},
   "outputs": [],
   "source": [
    "regional_aviation_data = aviation_data\n",
    "\n",
    "#add a column for the states\n",
    "aviation_data['State']= aviation_data['Location'].str[-2:]"
   ]
  },
  {
   "cell_type": "code",
   "execution_count": 27,
   "metadata": {},
   "outputs": [],
   "source": [
    "#define US regions using the regions defined by national geographic on https://education.nationalgeographic.org/resource/united-states-regions/\n",
    "west =['WA', 'OR', 'CA', 'NV', 'UT', 'ID', 'MT', 'WY', 'CO', 'AK', 'HI']\n",
    "southwest = ['AZ', 'NM', 'OK', 'TX']\n",
    "midwest = ['ND', 'SD', 'NE', 'KS', 'MN', 'IA', 'WI', 'IL', 'IN', 'MI', 'OH']\n",
    "southeast = ['AR', 'LA', 'MS', 'AL', 'TN','KY', 'WV', 'MD', 'DC', 'VA', 'NC', 'SC', 'GA', 'FL', 'DE']\n",
    "northeast = ['PA', 'NY', 'NJ', 'RI', 'MA', 'NH', 'VT', 'ME', 'CT']\n",
    "\n",
    "#check that all 50 states were accounted for\n",
    "assert len(west)+len(southwest)+len(northeast)+len(southeast)+len(midwest) == 50"
   ]
  },
  {
   "cell_type": "code",
   "execution_count": 28,
   "metadata": {},
   "outputs": [],
   "source": [
    "#assign a region to each state\n",
    "for index, row in regional_aviation_data.iterrows():\n",
    "    if row['State'] in west:\n",
    "        regional_aviation_data.loc[index, 'Region'] = 'West'\n",
    "    elif row['State'] in southwest:\n",
    "        regional_aviation_data.loc[index, 'Region'] = 'Southwest'\n",
    "    elif row['State'] in midwest:\n",
    "        regional_aviation_data.loc[index, 'Region'] = 'Midwest'\n",
    "    elif row['State'] in southeast:\n",
    "        regional_aviation_data.loc[index, 'Region'] = 'Southeast'\n",
    "    elif row['State'] in northeast:\n",
    "        regional_aviation_data.loc[index, 'Region'] = 'Northeast'"
   ]
  },
  {
   "cell_type": "code",
   "execution_count": 29,
   "metadata": {},
   "outputs": [
    {
     "data": {
      "text/html": [
       "<div>\n",
       "<style scoped>\n",
       "    .dataframe tbody tr th:only-of-type {\n",
       "        vertical-align: middle;\n",
       "    }\n",
       "\n",
       "    .dataframe tbody tr th {\n",
       "        vertical-align: top;\n",
       "    }\n",
       "\n",
       "    .dataframe thead th {\n",
       "        text-align: right;\n",
       "    }\n",
       "</style>\n",
       "<table border=\"1\" class=\"dataframe\">\n",
       "  <thead>\n",
       "    <tr style=\"text-align: right;\">\n",
       "      <th></th>\n",
       "      <th>Total.Fatal.Injuries</th>\n",
       "      <th>Total.Serious.Injuries</th>\n",
       "      <th>Total.Minor.Injuries</th>\n",
       "      <th>Total.Uninjured</th>\n",
       "      <th>Total.Injuries</th>\n",
       "      <th>Num.Passengers</th>\n",
       "    </tr>\n",
       "    <tr>\n",
       "      <th>Region</th>\n",
       "      <th></th>\n",
       "      <th></th>\n",
       "      <th></th>\n",
       "      <th></th>\n",
       "      <th></th>\n",
       "      <th></th>\n",
       "    </tr>\n",
       "  </thead>\n",
       "  <tbody>\n",
       "    <tr>\n",
       "      <th>West</th>\n",
       "      <td>2295</td>\n",
       "      <td>2051</td>\n",
       "      <td>1536</td>\n",
       "      <td>28514</td>\n",
       "      <td>5882</td>\n",
       "      <td>34396</td>\n",
       "    </tr>\n",
       "    <tr>\n",
       "      <th>Southeast</th>\n",
       "      <td>1829</td>\n",
       "      <td>1468</td>\n",
       "      <td>1143</td>\n",
       "      <td>26082</td>\n",
       "      <td>4440</td>\n",
       "      <td>30522</td>\n",
       "    </tr>\n",
       "    <tr>\n",
       "      <th>Midwest</th>\n",
       "      <td>1009</td>\n",
       "      <td>882</td>\n",
       "      <td>782</td>\n",
       "      <td>16686</td>\n",
       "      <td>2673</td>\n",
       "      <td>19359</td>\n",
       "    </tr>\n",
       "    <tr>\n",
       "      <th>Northeast</th>\n",
       "      <td>646</td>\n",
       "      <td>625</td>\n",
       "      <td>502</td>\n",
       "      <td>15222</td>\n",
       "      <td>1773</td>\n",
       "      <td>16995</td>\n",
       "    </tr>\n",
       "    <tr>\n",
       "      <th>Southwest</th>\n",
       "      <td>1072</td>\n",
       "      <td>767</td>\n",
       "      <td>722</td>\n",
       "      <td>9726</td>\n",
       "      <td>2561</td>\n",
       "      <td>12287</td>\n",
       "    </tr>\n",
       "  </tbody>\n",
       "</table>\n",
       "</div>"
      ],
      "text/plain": [
       "           Total.Fatal.Injuries  Total.Serious.Injuries  Total.Minor.Injuries  \\\n",
       "Region                                                                          \n",
       "West                       2295                    2051                  1536   \n",
       "Southeast                  1829                    1468                  1143   \n",
       "Midwest                    1009                     882                   782   \n",
       "Northeast                   646                     625                   502   \n",
       "Southwest                  1072                     767                   722   \n",
       "\n",
       "           Total.Uninjured  Total.Injuries  Num.Passengers  \n",
       "Region                                                      \n",
       "West                 28514            5882           34396  \n",
       "Southeast            26082            4440           30522  \n",
       "Midwest              16686            2673           19359  \n",
       "Northeast            15222            1773           16995  \n",
       "Southwest             9726            2561           12287  "
      ]
     },
     "execution_count": 29,
     "metadata": {},
     "output_type": "execute_result"
    }
   ],
   "source": [
    "regional_aviation_data = regional_aviation_data.groupby('Region').sum()\n",
    "regional_aviation_data = regional_aviation_data.sort_values('Total.Uninjured', ascending=False)\n",
    "regional_aviation_data"
   ]
  },
  {
   "cell_type": "code",
   "execution_count": 30,
   "metadata": {},
   "outputs": [],
   "source": [
    "#define injury data\n",
    "injury_data = ['Total.Fatal.Injuries', 'Total.Serious.Injuries', 'Total.Minor.Injuries', 'Total.Uninjured']"
   ]
  },
  {
   "cell_type": "code",
   "execution_count": 31,
   "metadata": {
    "scrolled": true
   },
   "outputs": [
    {
     "data": {
      "image/png": "[encoded data removed]",
      "text/plain": [
       "<Figure size 432x288 with 1 Axes>"
      ]
     },
     "metadata": {
      "needs_background": "light"
     },
     "output_type": "display_data"
    }
   ],
   "source": [
    "regional_aviation_data.groupby(['Region'])[injury_data].sum().plot(kind='bar', stacked = True, title='Passenger Outcomes Per Region', ylabel= 'Number of Passengers', rot=45)\n",
    "plt.show()"
   ]
  },
  {
   "cell_type": "markdown",
   "metadata": {},
   "source": [
    "***By number of uninjured passengers, the West is the best area to fly***"
   ]
  },
  {
   "cell_type": "code",
   "execution_count": 32,
   "metadata": {},
   "outputs": [],
   "source": [
    "#convert all columns to percentages\n",
    "regional_aviation_data['Total.Fatal.Injuries'] = ((regional_aviation_data['Total.Fatal.Injuries']/regional_aviation_data['Num.Passengers'])*100)\n",
    "regional_aviation_data['Total.Serious.Injuries'] = ((regional_aviation_data['Total.Serious.Injuries']/regional_aviation_data['Num.Passengers'])*100)\n",
    "regional_aviation_data['Total.Minor.Injuries'] = ((regional_aviation_data['Total.Serious.Injuries']/regional_aviation_data['Num.Passengers'])*100)\n",
    "regional_aviation_data['Total.Uninjured'] = ((regional_aviation_data['Total.Uninjured']/regional_aviation_data['Num.Passengers'])*100)\n",
    "\n",
    "#rename the columns\n",
    "regional_aviation_data.rename(columns={'Total.Fatal.Injuries':'Percentage.Fatal.Injuries', 'Total.Serious.Injuries':'Percentage.Serious.Injuries', 'Total.Minor.Injuries':'Percentage.Minor.Injuries', 'Total.Uninjured':'Percentage.Uninjured'},inplace=True)"
   ]
  },
  {
   "cell_type": "code",
   "execution_count": 33,
   "metadata": {},
   "outputs": [],
   "source": [
    "#drop number of passengers column\n",
    "regional_aviation_data= regional_aviation_data.drop(['Num.Passengers'], axis=1).sort_values('Percentage.Uninjured', ascending=False)"
   ]
  },
  {
   "cell_type": "code",
   "execution_count": 34,
   "metadata": {},
   "outputs": [
    {
     "data": {
      "text/html": [
       "<div>\n",
       "<style scoped>\n",
       "    .dataframe tbody tr th:only-of-type {\n",
       "        vertical-align: middle;\n",
       "    }\n",
       "\n",
       "    .dataframe tbody tr th {\n",
       "        vertical-align: top;\n",
       "    }\n",
       "\n",
       "    .dataframe thead th {\n",
       "        text-align: right;\n",
       "    }\n",
       "</style>\n",
       "<table border=\"1\" class=\"dataframe\">\n",
       "  <thead>\n",
       "    <tr style=\"text-align: right;\">\n",
       "      <th></th>\n",
       "      <th>Percentage.Fatal.Injuries</th>\n",
       "      <th>Percentage.Serious.Injuries</th>\n",
       "      <th>Percentage.Minor.Injuries</th>\n",
       "      <th>Percentage.Uninjured</th>\n",
       "      <th>Total.Injuries</th>\n",
       "    </tr>\n",
       "    <tr>\n",
       "      <th>Region</th>\n",
       "      <th></th>\n",
       "      <th></th>\n",
       "      <th></th>\n",
       "      <th></th>\n",
       "      <th></th>\n",
       "    </tr>\n",
       "  </thead>\n",
       "  <tbody>\n",
       "    <tr>\n",
       "      <th>Northeast</th>\n",
       "      <td>3.80</td>\n",
       "      <td>3.68</td>\n",
       "      <td>0.02</td>\n",
       "      <td>89.57</td>\n",
       "      <td>1773</td>\n",
       "    </tr>\n",
       "    <tr>\n",
       "      <th>Midwest</th>\n",
       "      <td>5.21</td>\n",
       "      <td>4.56</td>\n",
       "      <td>0.02</td>\n",
       "      <td>86.19</td>\n",
       "      <td>2673</td>\n",
       "    </tr>\n",
       "    <tr>\n",
       "      <th>Southeast</th>\n",
       "      <td>5.99</td>\n",
       "      <td>4.81</td>\n",
       "      <td>0.02</td>\n",
       "      <td>85.45</td>\n",
       "      <td>4440</td>\n",
       "    </tr>\n",
       "    <tr>\n",
       "      <th>West</th>\n",
       "      <td>6.67</td>\n",
       "      <td>5.96</td>\n",
       "      <td>0.02</td>\n",
       "      <td>82.90</td>\n",
       "      <td>5882</td>\n",
       "    </tr>\n",
       "    <tr>\n",
       "      <th>Southwest</th>\n",
       "      <td>8.72</td>\n",
       "      <td>6.24</td>\n",
       "      <td>0.05</td>\n",
       "      <td>79.16</td>\n",
       "      <td>2561</td>\n",
       "    </tr>\n",
       "  </tbody>\n",
       "</table>\n",
       "</div>"
      ],
      "text/plain": [
       "           Percentage.Fatal.Injuries  Percentage.Serious.Injuries  \\\n",
       "Region                                                              \n",
       "Northeast                       3.80                         3.68   \n",
       "Midwest                         5.21                         4.56   \n",
       "Southeast                       5.99                         4.81   \n",
       "West                            6.67                         5.96   \n",
       "Southwest                       8.72                         6.24   \n",
       "\n",
       "           Percentage.Minor.Injuries  Percentage.Uninjured  Total.Injuries  \n",
       "Region                                                                      \n",
       "Northeast                       0.02                 89.57            1773  \n",
       "Midwest                         0.02                 86.19            2673  \n",
       "Southeast                       0.02                 85.45            4440  \n",
       "West                            0.02                 82.90            5882  \n",
       "Southwest                       0.05                 79.16            2561  "
      ]
     },
     "execution_count": 34,
     "metadata": {},
     "output_type": "execute_result"
    }
   ],
   "source": [
    "regional_aviation_data.round(2)"
   ]
  },
  {
   "cell_type": "code",
   "execution_count": 35,
   "metadata": {},
   "outputs": [],
   "source": [
    "#plot the regional passenger outcomes by percentage\n",
    "#regional_aviation_data.drop('Total.Injuries', axis=1, inplace=True)"
   ]
  },
  {
   "cell_type": "code",
   "execution_count": 36,
   "metadata": {},
   "outputs": [
    {
     "data": {
      "image/png": "[encoded data removed]",
      "text/plain": [
       "<Figure size 432x288 with 1 Axes>"
      ]
     },
     "metadata": {
      "needs_background": "light"
     },
     "output_type": "display_data"
    },
    {
     "data": {
      "text/plain": [
       "<Figure size 2880x1728 with 0 Axes>"
      ]
     },
     "metadata": {},
     "output_type": "display_data"
    }
   ],
   "source": [
    "#plot the passenger outcomes by percentages\n",
    "regional_aviation_data.drop('Total.Injuries', axis =1).round().plot(kind='bar', stacked=True, title= 'Regional Passenger Outcomes by Percentage', ylabel='Percentage', rot = 45)\n",
    "plt.legend(loc='center left', bbox_to_anchor=(1.0, 0.85))\n",
    "plt.figure(figsize=(40, 24))\n",
    "plt.savefig('Regional Passenger Outcomes By Percentage')\n",
    "plt.show()"
   ]
  },
  {
   "cell_type": "markdown",
   "metadata": {},
   "source": [
    "***By percentage of uninjured passengers, the best region to fly in is the Northeast***"
   ]
  },
  {
   "cell_type": "markdown",
   "metadata": {},
   "source": [
    "# Finding the best flight purposes\n",
    "For this section we will look at what flight purposes the "
   ]
  },
  {
   "cell_type": "code",
   "execution_count": 37,
   "metadata": {},
   "outputs": [],
   "source": [
    "###find the aircraft usage that is the most risky"
   ]
  },
  {
   "cell_type": "code",
   "execution_count": 38,
   "metadata": {},
   "outputs": [],
   "source": [
    "aviation_data_by_purpose = aviation_data.groupby('Purpose.of.flight').sum()"
   ]
  },
  {
   "cell_type": "code",
   "execution_count": 39,
   "metadata": {},
   "outputs": [],
   "source": [
    "#drop the unknown purpose\n",
    "aviation_data_by_purpose.drop(index='Unknown', inplace=True)"
   ]
  },
  {
   "cell_type": "code",
   "execution_count": 40,
   "metadata": {},
   "outputs": [
    {
     "data": {
      "text/html": [
       "<div>\n",
       "<style scoped>\n",
       "    .dataframe tbody tr th:only-of-type {\n",
       "        vertical-align: middle;\n",
       "    }\n",
       "\n",
       "    .dataframe tbody tr th {\n",
       "        vertical-align: top;\n",
       "    }\n",
       "\n",
       "    .dataframe thead th {\n",
       "        text-align: right;\n",
       "    }\n",
       "</style>\n",
       "<table border=\"1\" class=\"dataframe\">\n",
       "  <thead>\n",
       "    <tr style=\"text-align: right;\">\n",
       "      <th></th>\n",
       "      <th>Total.Fatal.Injuries</th>\n",
       "      <th>Total.Serious.Injuries</th>\n",
       "      <th>Total.Minor.Injuries</th>\n",
       "      <th>Total.Uninjured</th>\n",
       "      <th>Total.Injuries</th>\n",
       "      <th>Num.Passengers</th>\n",
       "    </tr>\n",
       "    <tr>\n",
       "      <th>Purpose.of.flight</th>\n",
       "      <th></th>\n",
       "      <th></th>\n",
       "      <th></th>\n",
       "      <th></th>\n",
       "      <th></th>\n",
       "      <th></th>\n",
       "    </tr>\n",
       "  </thead>\n",
       "  <tbody>\n",
       "    <tr>\n",
       "      <th>Personal</th>\n",
       "      <td>5347</td>\n",
       "      <td>3530</td>\n",
       "      <td>3117</td>\n",
       "      <td>16816</td>\n",
       "      <td>11994</td>\n",
       "      <td>28810</td>\n",
       "    </tr>\n",
       "    <tr>\n",
       "      <th>Instructional</th>\n",
       "      <td>542</td>\n",
       "      <td>537</td>\n",
       "      <td>446</td>\n",
       "      <td>3958</td>\n",
       "      <td>1525</td>\n",
       "      <td>5483</td>\n",
       "    </tr>\n",
       "    <tr>\n",
       "      <th>Business</th>\n",
       "      <td>406</td>\n",
       "      <td>163</td>\n",
       "      <td>164</td>\n",
       "      <td>1225</td>\n",
       "      <td>733</td>\n",
       "      <td>1958</td>\n",
       "    </tr>\n",
       "    <tr>\n",
       "      <th>Aerial Application</th>\n",
       "      <td>154</td>\n",
       "      <td>167</td>\n",
       "      <td>131</td>\n",
       "      <td>639</td>\n",
       "      <td>452</td>\n",
       "      <td>1091</td>\n",
       "    </tr>\n",
       "    <tr>\n",
       "      <th>Skydiving</th>\n",
       "      <td>217</td>\n",
       "      <td>81</td>\n",
       "      <td>46</td>\n",
       "      <td>524</td>\n",
       "      <td>344</td>\n",
       "      <td>868</td>\n",
       "    </tr>\n",
       "  </tbody>\n",
       "</table>\n",
       "</div>"
      ],
      "text/plain": [
       "                    Total.Fatal.Injuries  Total.Serious.Injuries  \\\n",
       "Purpose.of.flight                                                  \n",
       "Personal                            5347                    3530   \n",
       "Instructional                        542                     537   \n",
       "Business                             406                     163   \n",
       "Aerial Application                   154                     167   \n",
       "Skydiving                            217                      81   \n",
       "\n",
       "                    Total.Minor.Injuries  Total.Uninjured  Total.Injuries  \\\n",
       "Purpose.of.flight                                                           \n",
       "Personal                            3117            16816           11994   \n",
       "Instructional                        446             3958            1525   \n",
       "Business                             164             1225             733   \n",
       "Aerial Application                   131              639             452   \n",
       "Skydiving                             46              524             344   \n",
       "\n",
       "                    Num.Passengers  \n",
       "Purpose.of.flight                   \n",
       "Personal                     28810  \n",
       "Instructional                 5483  \n",
       "Business                      1958  \n",
       "Aerial Application            1091  \n",
       "Skydiving                      868  "
      ]
     },
     "execution_count": 40,
     "metadata": {},
     "output_type": "execute_result"
    }
   ],
   "source": [
    "safest_purpose = aviation_data_by_purpose.sort_values('Total.Uninjured', ascending=False).nlargest(5, columns='Total.Uninjured')\n",
    "safest_purpose"
   ]
  },
  {
   "cell_type": "code",
   "execution_count": 41,
   "metadata": {},
   "outputs": [
    {
     "data": {
      "image/png": "[encoded data removed]",
      "text/plain": [
       "<Figure size 432x288 with 1 Axes>"
      ]
     },
     "metadata": {
      "needs_background": "light"
     },
     "output_type": "display_data"
    }
   ],
   "source": [
    "safest_purpose.drop(['Total.Injuries', 'Num.Passengers'], axis =1).plot(kind='bar', stacked=True, title= 'Purpose of Flight Passenger Outcomes', ylabel='Percentage', xlabel='Purpose of Flight', rot = 45)\n",
    "plt.legend(loc='center left', bbox_to_anchor=(1.0, 0.85))\n",
    "plt.show()"
   ]
  },
  {
   "cell_type": "code",
   "execution_count": 42,
   "metadata": {},
   "outputs": [],
   "source": [
    "#convert all columns to percentages\n",
    "aviation_data_by_purpose['Total.Fatal.Injuries'] = ((aviation_data_by_purpose['Total.Fatal.Injuries']/aviation_data_by_purpose['Num.Passengers'])*100)\n",
    "aviation_data_by_purpose['Total.Serious.Injuries'] = ((aviation_data_by_purpose['Total.Serious.Injuries']/aviation_data_by_purpose['Num.Passengers'])*100)\n",
    "aviation_data_by_purpose['Total.Minor.Injuries'] = ((aviation_data_by_purpose['Total.Minor.Injuries']/aviation_data_by_purpose['Num.Passengers'])*100)\n",
    "aviation_data_by_purpose['Total.Uninjured'] = ((aviation_data_by_purpose['Total.Uninjured']/aviation_data_by_purpose['Num.Passengers'])*100)"
   ]
  },
  {
   "cell_type": "code",
   "execution_count": 43,
   "metadata": {},
   "outputs": [],
   "source": [
    "#drop unneeded columns\n",
    "aviation_data_by_purpose.drop(['Total.Injuries', 'Num.Passengers'], axis = 1, inplace = True)"
   ]
  },
  {
   "cell_type": "code",
   "execution_count": 44,
   "metadata": {},
   "outputs": [
    {
     "data": {
      "text/html": [
       "<div>\n",
       "<style scoped>\n",
       "    .dataframe tbody tr th:only-of-type {\n",
       "        vertical-align: middle;\n",
       "    }\n",
       "\n",
       "    .dataframe tbody tr th {\n",
       "        vertical-align: top;\n",
       "    }\n",
       "\n",
       "    .dataframe thead th {\n",
       "        text-align: right;\n",
       "    }\n",
       "</style>\n",
       "<table border=\"1\" class=\"dataframe\">\n",
       "  <thead>\n",
       "    <tr style=\"text-align: right;\">\n",
       "      <th></th>\n",
       "      <th>Total.Fatal.Injuries</th>\n",
       "      <th>Total.Serious.Injuries</th>\n",
       "      <th>Total.Minor.Injuries</th>\n",
       "      <th>Total.Uninjured</th>\n",
       "    </tr>\n",
       "    <tr>\n",
       "      <th>Purpose.of.flight</th>\n",
       "      <th></th>\n",
       "      <th></th>\n",
       "      <th></th>\n",
       "      <th></th>\n",
       "    </tr>\n",
       "  </thead>\n",
       "  <tbody>\n",
       "    <tr>\n",
       "      <th>Public Aircraft - Federal</th>\n",
       "      <td>9.91</td>\n",
       "      <td>8.11</td>\n",
       "      <td>6.31</td>\n",
       "      <td>75.68</td>\n",
       "    </tr>\n",
       "    <tr>\n",
       "      <th>PUBS</th>\n",
       "      <td>0.00</td>\n",
       "      <td>0.00</td>\n",
       "      <td>25.00</td>\n",
       "      <td>75.00</td>\n",
       "    </tr>\n",
       "    <tr>\n",
       "      <th>Executive/corporate</th>\n",
       "      <td>15.57</td>\n",
       "      <td>7.86</td>\n",
       "      <td>3.57</td>\n",
       "      <td>73.00</td>\n",
       "    </tr>\n",
       "    <tr>\n",
       "      <th>Instructional</th>\n",
       "      <td>9.89</td>\n",
       "      <td>9.79</td>\n",
       "      <td>8.13</td>\n",
       "      <td>72.19</td>\n",
       "    </tr>\n",
       "    <tr>\n",
       "      <th>Positioning</th>\n",
       "      <td>17.41</td>\n",
       "      <td>7.41</td>\n",
       "      <td>5.17</td>\n",
       "      <td>70.00</td>\n",
       "    </tr>\n",
       "  </tbody>\n",
       "</table>\n",
       "</div>"
      ],
      "text/plain": [
       "                           Total.Fatal.Injuries  Total.Serious.Injuries  \\\n",
       "Purpose.of.flight                                                         \n",
       "Public Aircraft - Federal                  9.91                    8.11   \n",
       "PUBS                                       0.00                    0.00   \n",
       "Executive/corporate                       15.57                    7.86   \n",
       "Instructional                              9.89                    9.79   \n",
       "Positioning                               17.41                    7.41   \n",
       "\n",
       "                           Total.Minor.Injuries  Total.Uninjured  \n",
       "Purpose.of.flight                                                 \n",
       "Public Aircraft - Federal                  6.31            75.68  \n",
       "PUBS                                      25.00            75.00  \n",
       "Executive/corporate                        3.57            73.00  \n",
       "Instructional                              8.13            72.19  \n",
       "Positioning                                5.17            70.00  "
      ]
     },
     "execution_count": 44,
     "metadata": {},
     "output_type": "execute_result"
    }
   ],
   "source": [
    "safest_flight_purposes = aviation_data_by_purpose.sort_values('Total.Uninjured', ascending=False).nlargest(5, columns='Total.Uninjured')\n",
    "safest_flight_purposes.round(2)"
   ]
  },
  {
   "cell_type": "code",
   "execution_count": 45,
   "metadata": {},
   "outputs": [
    {
     "data": {
      "image/png": "[encoded data removed]",
      "text/plain": [
       "<Figure size 432x288 with 1 Axes>"
      ]
     },
     "metadata": {
      "needs_background": "light"
     },
     "output_type": "display_data"
    }
   ],
   "source": [
    "#plot the passenger outcomes by percentages\n",
    "safest_flight_purposes.round().plot(kind='bar', stacked=True, title= 'Purpose of Flight Passenger Outcomes by Percentage', ylabel='Percentage', xlabel='Purpose of Flight', rot = 45)\n",
    "plt.legend(loc='center left', bbox_to_anchor=(1.0, 0.85))\n",
    "plt.show()"
   ]
  },
  {
   "cell_type": "markdown",
   "metadata": {},
   "source": [
    "***The best purpose of flight to get involved with would be be Public Aircraft - Federal. This, and PUBS seem unpractical due to barriers to entry. So Executive/Corporate is likely the best purpose of flight.***"
   ]
  },
  {
   "cell_type": "markdown",
   "metadata": {},
   "source": [
    "# Conclusions\n",
    "\n",
    "1. Which aircrafts should the company purchase? ***Boeing 737***\n",
    "2. Which regions should the company fly in? ***Northeast***\n",
    "3. Which purposes of flight should the company get involved in? ***Executive/Corporate***"
   ]
  },
  {
   "cell_type": "markdown",
   "metadata": {},
   "source": [
    "# Limitations\n",
    "\n",
    "- This dataset only contains information on planes that have had accidents\n",
    "- Data has a range of about 60 years, older data may not be relevant as technology has changed a lot since then\n",
    "- Just because something is the best, doesn't mean it's possible for the company\n"
   ]
  },
  {
   "cell_type": "markdown",
   "metadata": {},
   "source": [
    "# Next Steps\n",
    "- Look into data on overall perfomance of aircraft by bringing in data on planes that have not crashed as well\n",
    "- Look at the reccommendations and evaluate if any are impossible/impractical for the company\n",
    "- Perform a similar analysis on more recent years"
   ]
  }
 ],
 "metadata": {
  "kernelspec": {
   "display_name": "Python (learn-env)",
   "language": "python",
   "name": "learn-env"
  },
  "language_info": {
   "codemirror_mode": {
    "name": "ipython",
    "version": 3
   },
   "file_extension": ".py",
   "mimetype": "text/x-python",
   "name": "python",
   "nbconvert_exporter": "python",
   "pygments_lexer": "ipython3",
   "version": "3.8.5"
  }
 },
 "nbformat": 4,
 "nbformat_minor": 4
}
